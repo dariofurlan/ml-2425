{
 "cells": [
  {
   "cell_type": "code",
   "execution_count": 18,
   "id": "c6dbbdf6",
   "metadata": {},
   "outputs": [],
   "source": [
    "import os\n",
    "import json\n",
    "import pandas as pd\n",
    "from pathlib import Path\n",
    "\n",
    "# Define the path to the runs folder\n",
    "runs_folder = Path('runs')\n",
    "\n",
    "# Initialize an empty list to store the data\n",
    "data = []\n",
    "\n",
    "# Iterate through each file in the runs folder\n",
    "for file_name in os.listdir(runs_folder):\n",
    "    if file_name.endswith('.json'):\n",
    "        file_path = runs_folder / file_name\n",
    "        with open(file_path, 'r') as file:\n",
    "            content = json.load(file)\n",
    "            # Extract dataset and seed from the filename\n",
    "            parts = file_name.split('_')\n",
    "            dataset = parts[3].lower()\n",
    "            seed = parts[-1].split('.')[0]\n",
    "            mcc = content.get('eval_matthews_correlation', 0)\n",
    "            data.append({'Dataset': dataset, 'seed': seed, 'MCC': mcc})\n",
    "\n",
    "# Create a DataFrame from the collected data\n",
    "df = pd.DataFrame(data)\n",
    "\n",
    "# Convert seed to integer for proper sorting\n",
    "df['seed'] = df['seed'].astype(int)\n",
    "\n",
    "# Sort the DataFrame by Dataset and then by seed\n",
    "df = df.sort_values(by=['Dataset', 'seed'])\n",
    "\n",
    "# Compute the average MCC for each dataset\n",
    "average_mcc = df.groupby('Dataset')['MCC'].mean().reset_index()\n",
    "average_mcc.rename(columns={'MCC': 'Average MCC'}, inplace=True)\n",
    "\n",
    "# Convert MCC to percentage by multiplying by 100, rounding to 2 decimal places, and adding percentage sign\n",
    "df['MCC'] = df['MCC'].apply(lambda x: f\"{(x * 100):.2f}%\")\n",
    "average_mcc['Average MCC'] = average_mcc['Average MCC'].apply(lambda x: f\"{(x * 100):.2f}%\")\n"
   ]
  },
  {
   "cell_type": "markdown",
   "id": "5bd8a422",
   "metadata": {},
   "source": [
    "## Sorted Runs Table"
   ]
  },
  {
   "cell_type": "code",
   "execution_count": 16,
   "id": "eee4c3a0",
   "metadata": {},
   "outputs": [
    {
     "name": "stdout",
     "output_type": "stream",
     "text": [
      "| Dataset   |   seed | MCC    |\n",
      "|:----------|-------:|:-------|\n",
      "| all       |     15 | 91.64% |\n",
      "| all       |     44 | 90.95% |\n",
      "| all       |     48 | 91.05% |\n",
      "| all       |     65 | 89.07% |\n",
      "| all       |    172 | 90.54% |\n",
      "| notata    |     31 | 93.03% |\n",
      "| notata    |     42 | 93.13% |\n",
      "| notata    |     77 | 92.24% |\n",
      "| tata      |     11 | 63.76% |\n",
      "| tata      |     53 | 61.89% |\n",
      "| tata      |     80 | 60.48% |\n"
     ]
    }
   ],
   "source": [
    "print(df.to_markdown(index=False))"
   ]
  },
  {
   "cell_type": "markdown",
   "id": "ae2a515a",
   "metadata": {},
   "source": [
    "## Average MCC per Dataset"
   ]
  },
  {
   "cell_type": "code",
   "execution_count": 17,
   "id": "4cc7352a",
   "metadata": {},
   "outputs": [
    {
     "name": "stdout",
     "output_type": "stream",
     "text": [
      "| Dataset   | Average MCC   |\n",
      "|:----------|:--------------|\n",
      "| all       | 90.65%        |\n",
      "| notata    | 92.80%        |\n",
      "| tata      | 62.05%        |\n"
     ]
    }
   ],
   "source": [
    "print(average_mcc.to_markdown(index=False))"
   ]
  },
  {
   "cell_type": "code",
   "execution_count": 19,
   "id": "d6acc214",
   "metadata": {},
   "outputs": [
    {
     "name": "stdout",
     "output_type": "stream",
     "text": [
      "| Dataset   | Our MCC   | Expected MCC   | Absolute Error   | Relative Error (%)   |\n",
      "|:----------|:----------|:---------------|:-----------------|:---------------------|\n",
      "| all       | 90.65%    | 90.48%         | 0.17%            | 0.19%                |\n",
      "| notata    | 92.80%    | 93.05%         | 0.25%            | 0.27%                |\n",
      "| tata      | 62.05%    | 61.56%         | 0.49%            | 0.80%                |\n"
     ]
    }
   ],
   "source": [
    "expected_values = {\n",
    "    \"all\": 0.9048,\n",
    "    \"notata\": 0.9305,\n",
    "    \"tata\": 0.6156\n",
    "}\n",
    "\n",
    "# Convert the percentage strings back to float values for calculations\n",
    "average_mcc_values = average_mcc.copy()\n",
    "average_mcc_values['Average MCC'] = average_mcc_values['Average MCC'].str.rstrip('%').astype(float) / 100\n",
    "\n",
    "# Create a comparison dataframe\n",
    "comparison = pd.DataFrame({\n",
    "    'Dataset': list(expected_values.keys()),\n",
    "    'Our MCC': [average_mcc_values[average_mcc_values['Dataset'] == dataset]['Average MCC'].values[0] for dataset in expected_values.keys()],\n",
    "    'Expected MCC': list(expected_values.values())\n",
    "})\n",
    "\n",
    "# Calculate absolute and relative errors\n",
    "comparison['Absolute Error'] = abs(comparison['Our MCC'] - comparison['Expected MCC'])\n",
    "comparison['Relative Error (%)'] = comparison['Absolute Error'] / comparison['Expected MCC'] * 100\n",
    "\n",
    "# Format values for display\n",
    "comparison['Our MCC'] = comparison['Our MCC'].apply(lambda x: f\"{(x * 100):.2f}%\")\n",
    "comparison['Expected MCC'] = comparison['Expected MCC'].apply(lambda x: f\"{(x * 100):.2f}%\")\n",
    "comparison['Absolute Error'] = comparison['Absolute Error'].apply(lambda x: f\"{(x * 100):.2f}%\")\n",
    "comparison['Relative Error (%)'] = comparison['Relative Error (%)'].apply(lambda x: f\"{x:.2f}%\")\n",
    "\n",
    "# Display the comparison table using to_markdown\n",
    "print(comparison.to_markdown(index=False))"
   ]
  }
 ],
 "metadata": {
  "kernelspec": {
   "display_name": "base",
   "language": "python",
   "name": "python3"
  },
  "language_info": {
   "codemirror_mode": {
    "name": "ipython",
    "version": 3
   },
   "file_extension": ".py",
   "mimetype": "text/x-python",
   "name": "python",
   "nbconvert_exporter": "python",
   "pygments_lexer": "ipython3",
   "version": "3.13.2"
  }
 },
 "nbformat": 4,
 "nbformat_minor": 5
}
